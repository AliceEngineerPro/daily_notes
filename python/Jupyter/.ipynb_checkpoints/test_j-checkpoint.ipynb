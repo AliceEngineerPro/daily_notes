{
 "cells": [
  {
   "cell_type": "markdown",
   "metadata": {},
   "source": [
    "# 测试"
   ]
  },
  {
   "cell_type": "code",
   "execution_count": null,
   "metadata": {},
   "outputs": [],
   "source": [
    "import pandas as pd\n",
    "import numpy as np\n",
    "\n",
    "column_1 = np.arange(5)\n",
    "column_2 = np.arange(5, 10)\n",
    "column_3 = np.arange(10, 15)\n",
    "column_4 = np.arange(15, 20)\n",
    "column_name = ['第一', '第二', '第三', '第四', '第五']\n",
    "data_1 = pd.DataFrame([column_1, column_2, column_3, column_4], columns=column_name)\n",
    "print(column_1)\n",
    "print(column_2)\n",
    "print(data_1)\n",
    "data_1.to_csv('save.csv', index=False, encoding='utf_8_sig')\n"
   ]
  },
  {
   "cell_type": "markdown",
   "metadata": {},
   "source": [
    "# "
   ]
  },
  {
   "cell_type": "code",
   "execution_count": null,
   "metadata": {},
   "outputs": [],
   "source": []
  }
 ],
 "metadata": {
  "kernelspec": {
   "display_name": "Python 3 (ipykernel)",
   "language": "python",
   "name": "python3"
  },
  "language_info": {
   "codemirror_mode": {
    "name": "ipython",
    "version": 3
   },
   "file_extension": ".py",
   "mimetype": "text/x-python",
   "name": "python",
   "nbconvert_exporter": "python",
   "pygments_lexer": "ipython3",
   "version": "3.9.15"
  }
 },
 "nbformat": 4,
 "nbformat_minor": 1
}
