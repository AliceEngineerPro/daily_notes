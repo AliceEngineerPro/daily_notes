{
 "cells": [
  {
   "cell_type": "markdown",
   "metadata": {},
   "source": [
    "# 测试"
   ]
  },
  {
   "cell_type": "code",
   "execution_count": null,
   "metadata": {},
   "outputs": [],
   "source": [
    "import numpy as np\n",
    "import pandas as pd\n",
    "\n",
    "data_frame = np.random.rand(100).reshape(20, 5)\n",
    "# print(data_frame)\n",
    "data_to_csv = pd.DataFrame(data_frame, columns=['A', 'B', 'C', 'D', 'E'])\n",
    "# print(data_to_csv)\n",
    "try:\n",
    "    data_to_csv.to_csv('save.csv', index=False)\n",
    "except Exception as error:\n",
    "    print(error)\n"
   ]
  },
  {
   "cell_type": "markdown",
   "source": [
    "excel转为csv\n"
   ],
   "metadata": {
    "collapsed": false
   }
  },
  {
   "cell_type": "code",
   "execution_count": 12,
   "outputs": [
    {
     "name": "stdout",
     "output_type": "stream",
     "text": [
      "         date   open  close   high    low      volume    code\n",
      "0  2009-01-05  5.086  5.178  5.178  5.008   936048.88  000002\n",
      "1  2009-01-06  5.163  5.333  5.372  5.109  1216831.18  000002\n"
     ]
    }
   ],
   "source": [
    "import pandas as pd\n",
    "\n",
    "file_xlsx = r'D:\\data\\Development\\Python大数据分析与机器学习商业案例实战\\第2章 数据分析的基本武器\\源代码汇总_Jupyter Notebook格式（推荐）\\股价数据.xlsx'\n",
    "read_xlsx = pd.read_excel(file_xlsx)\n",
    "read_xlsx['code'] = ['{}{}'.format('0' * 5, data) for data in read_xlsx['code'].values]\n",
    "try:\n",
    "    read_xlsx.to_csv('stock_data.csv', index=False)\n",
    "except Exception as error:\n",
    "    print(error)\n",
    "print(read_xlsx.head(2))\n"
   ],
   "metadata": {
    "collapsed": false
   }
  }
 ],
 "metadata": {
  "kernelspec": {
   "display_name": "Python 3 (ipykernel)",
   "language": "python",
   "name": "python3"
  },
  "language_info": {
   "codemirror_mode": {
    "name": "ipython",
    "version": 3
   },
   "file_extension": ".py",
   "mimetype": "text/x-python",
   "name": "python",
   "nbconvert_exporter": "python",
   "pygments_lexer": "ipython3",
   "version": "3.9.15"
  }
 },
 "nbformat": 4,
 "nbformat_minor": 1
}
