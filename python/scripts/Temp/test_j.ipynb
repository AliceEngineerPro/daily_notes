{
 "cells": [
  {
   "cell_type": "code",
   "execution_count": 34,
   "metadata": {
    "collapsed": true
   },
   "outputs": [
    {
     "name": "stdout",
     "output_type": "stream",
     "text": [
      "[0 1 2 3 4]\n",
      "[5 6 7 8 9]\n",
      "   第一  第二  第三  第四  第五\n",
      "0   0   1   2   3   4\n",
      "1   5   6   7   8   9\n",
      "2  10  11  12  13  14\n",
      "3  15  16  17  18  19\n"
     ]
    }
   ],
   "source": [
    "import pandas as pd\n",
    "import numpy as np\n",
    "\n",
    "column_1 = np.arange(5)\n",
    "column_2 = np.arange(5, 10)\n",
    "column_3 = np.arange(10, 15)\n",
    "column_4 = np.arange(15, 20)\n",
    "column_name = ['第一', '第二', '第三', '第四', '第五']\n",
    "data_1 = pd.DataFrame([column_1, column_2, column_3, column_4], columns=column_name)\n",
    "print(column_1)\n",
    "print(column_2)\n",
    "print(data_1)\n",
    "data_1.to_csv('save.csv', index=False, encoding='utf_8_sig')\n"
   ]
  }
 ],
 "metadata": {
  "kernelspec": {
   "display_name": "Python 3",
   "language": "python",
   "name": "python3"
  },
  "language_info": {
   "codemirror_mode": {
    "name": "ipython",
    "version": 2
   },
   "file_extension": ".py",
   "mimetype": "text/x-python",
   "name": "python",
   "nbconvert_exporter": "python",
   "pygments_lexer": "ipython2",
   "version": "2.7.6"
  }
 },
 "nbformat": 4,
 "nbformat_minor": 0
}
